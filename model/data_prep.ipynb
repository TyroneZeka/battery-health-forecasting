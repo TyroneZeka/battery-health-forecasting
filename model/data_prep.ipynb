{
 "cells": [
  {
   "cell_type": "code",
   "execution_count": 6,
   "id": "619c2f60",
   "metadata": {},
   "outputs": [
    {
     "name": "stdout",
     "output_type": "stream",
     "text": [
      "Dataset shape: (4870, 10)\n",
      "Batteries: 42\n",
      "Datasets: ['NASA' 'Oxford']\n"
     ]
    }
   ],
   "source": [
    "import pandas as pd\n",
    "import numpy as np\n",
    "from sklearn.preprocessing import MinMaxScaler\n",
    "import warnings\n",
    "warnings.filterwarnings('ignore')\n",
    "\n",
    "# Load the final, cleaned dataset\n",
    "df = pd.read_csv('../data/processed/merged_battery_degradation.csv')\n",
    "\n",
    "# Ensure the data is sorted by battery and cycle\n",
    "df = df.sort_values(['battery_id', 'cycle_index']).reset_index(drop=True)\n",
    "\n",
    "print(f\"Dataset shape: {df.shape}\")\n",
    "print(f\"Batteries: {df['battery_id'].nunique()}\")\n",
    "print(f\"Datasets: {df['dataset'].unique()}\")"
   ]
  },
  {
   "cell_type": "code",
   "execution_count": 7,
   "id": "76ff909f",
   "metadata": {},
   "outputs": [
    {
     "data": {
      "text/plain": [
       "Index(['battery_id', 'cycle_index', 'capacity', 'voltage', 'current',\n",
       "       'temperature', 'time', 'norm_capacity', 'RUL', 'dataset'],\n",
       "      dtype='object')"
      ]
     },
     "execution_count": 7,
     "metadata": {},
     "output_type": "execute_result"
    }
   ],
   "source": [
    "df.columns"
   ]
  },
  {
   "cell_type": "code",
   "execution_count": 8,
   "id": "67f2197e",
   "metadata": {},
   "outputs": [],
   "source": [
    "# Select features\n",
    "feature_columns = ['norm_capacity', 'voltage', 'current', 'temperature', 'time']\n",
    "target_column = 'RUL'\n",
    "\n",
    "# Handle NaN values in features (e.g., from charge cycles)\n",
    "df[feature_columns] = df[feature_columns].fillna(method='ffill')  # Forward-fill\n",
    "df = df.dropna(subset=feature_columns + [target_column])  # Drop any remaining NaN"
   ]
  },
  {
   "cell_type": "code",
   "execution_count": 9,
   "id": "d02c2deb",
   "metadata": {},
   "outputs": [],
   "source": [
    "scaler_X = MinMaxScaler()\n",
    "scaler_y = MinMaxScaler()\n",
    "\n",
    "# Scale features\n",
    "X_scaled = scaler_X.fit_transform(df[feature_columns])\n",
    "\n",
    "# Scale target (RUL)\n",
    "y_scaled = scaler_y.fit_transform(df[[target_column]])"
   ]
  },
  {
   "cell_type": "code",
   "execution_count": 10,
   "id": "f31e701a",
   "metadata": {},
   "outputs": [
    {
     "name": "stdout",
     "output_type": "stream",
     "text": [
      "Sequence shape: (4855, 15, 5)\n",
      "Target shape: (4855, 1)\n"
     ]
    }
   ],
   "source": [
    "def create_sequences(data, target, window_size=10):\n",
    "    X, y = [], []\n",
    "    for i in range(window_size, len(data)):\n",
    "        X.append(data[i-window_size:i])  # Sequence of past `window_size` cycles\n",
    "        y.append(target[i])              # RUL at current cycle\n",
    "    return np.array(X), np.array(y)\n",
    "\n",
    "# Define window size (e.g., last 10 cycles)\n",
    "window_size = 15\n",
    "\n",
    "# Create sequences\n",
    "X_seq, y_seq = create_sequences(X_scaled, y_scaled, window_size)\n",
    "\n",
    "print(f\"Sequence shape: {X_seq.shape}\")  # Should be (num_sequences, window_size, num_features)\n",
    "print(f\"Target shape: {y_seq.shape}\")    # Should be (num_sequences, 1)"
   ]
  },
  {
   "cell_type": "code",
   "execution_count": 11,
   "id": "c025b084",
   "metadata": {},
   "outputs": [
    {
     "name": "stdout",
     "output_type": "stream",
     "text": [
      "Train sequences: 4116\n",
      "Test sequences: 724\n"
     ]
    }
   ],
   "source": [
    "from sklearn.model_selection import train_test_split\n",
    "\n",
    "# Get unique battery IDs\n",
    "battery_ids = df['battery_id'].unique()\n",
    "\n",
    "# Split batteries into train and test\n",
    "train_batteries, test_batteries = train_test_split(battery_ids, test_size=0.2, random_state=42)\n",
    "\n",
    "# Create train/test masks\n",
    "train_mask = df['battery_id'].isin(train_batteries)\n",
    "test_mask = df['battery_id'].isin(test_batteries)\n",
    "\n",
    "# Create sequences for train and test\n",
    "X_train, y_train = create_sequences(X_scaled[train_mask], y_scaled[train_mask], window_size)\n",
    "X_test, y_test = create_sequences(X_scaled[test_mask], y_scaled[test_mask], window_size)\n",
    "\n",
    "print(f\"Train sequences: {X_train.shape[0]}\")\n",
    "print(f\"Test sequences: {X_test.shape[0]}\")"
   ]
  },
  {
   "cell_type": "code",
   "execution_count": 13,
   "id": "3d74d5da",
   "metadata": {},
   "outputs": [
    {
     "name": "stdout",
     "output_type": "stream",
     "text": [
      "✅ Processed data saved for modeling.\n"
     ]
    }
   ],
   "source": [
    "np.save('../data/processed/X_train.npy', X_train)\n",
    "np.save('../data/processed/y_train.npy', y_train)\n",
    "np.save('../data/processed/X_test.npy', X_test)\n",
    "np.save('../data/processed/y_test.npy', y_test)\n",
    "\n",
    "# Save scalers for later use\n",
    "import joblib\n",
    "joblib.dump(scaler_X, '../saved_models/scaler_X.pkl')\n",
    "joblib.dump(scaler_y, '../saved_models/scaler_y.pkl')\n",
    "\n",
    "print(\"✅ Processed data saved for modeling.\")"
   ]
  }
 ],
 "metadata": {
  "kernelspec": {
   "display_name": "env",
   "language": "python",
   "name": "python3"
  },
  "language_info": {
   "codemirror_mode": {
    "name": "ipython",
    "version": 3
   },
   "file_extension": ".py",
   "mimetype": "text/x-python",
   "name": "python",
   "nbconvert_exporter": "python",
   "pygments_lexer": "ipython3",
   "version": "3.12.8"
  }
 },
 "nbformat": 4,
 "nbformat_minor": 5
}
